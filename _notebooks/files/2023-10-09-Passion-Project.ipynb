{
 "cells": [
  {
   "cell_type": "markdown",
   "metadata": {},
   "source": [
    "---\n",
    "comments: true\n",
    "layout: post\n",
    "title: Passion Project\n",
    "description: A project on lung how pollution affects lung cancer\n",
    "courses: { csp: {week: 7} }\n",
    "type: ccc\n",
    "---"
   ]
  },
  {
   "cell_type": "markdown",
   "metadata": {},
   "source": [
    "## Lung Cancer Teaching:\n",
    "\n",
    "\n",
    "The concept of our page is to teach kids about climate change and lung cancer and how they are related to each other! By taking about how air pollution is affecting not only humans, but many other organisms, we hope to educate people so measures and movements can be taken to further improve on the current circumstances. We plan on describing each aspect of both topics. We can include an interactive game about pollutants and lung cancer.\n",
    "\n",
    "\n",
    "## Background:\n",
    "Throughout my life, I have noticed that cancer is one of the leading causes of death in the world, and my close relatives have suffered from it as well, so we are interested in making the world a better place by educating people about this issue. We hope that everyone is aware of this problem so that they can take preventative measures. We also want to support organizations that do cancer research and solve this problem.\n",
    "\n",
    "\n",
    "## Initial concepts:\n",
    "- Aditi (scrum master): assign roles, make plan, help other team members\n",
    "- Cindy (Backend): Image manipulation, can try to code a simulation on how pollution has affected the earth in the last few years, might compare to images of patients w lung cancer\n",
    "- Samhita (frontend): code the interface. since its for little children, the layout should be colorful and nice to look at (bubbly). Code an interactive game about pollutants and lung cancer. Insert maps, images, and simulations of areas where lung cancer is prevalent.\n",
    "- Eshika (devops): Upload page on AWS and help frontend and backend\n",
    "\n",
    "\n",
    "## Basic Layout:\n",
    "- Front page: cover page\n",
    "- Second page: what is climate change and lung cancer (informative). May include games on this page. Should be very nice to look at with lots of links\n",
    "- Third page: How climate change causes lung cancer, include simulation……another idea is to be able to show a model based on machine learning. We were planning to input aerosol data and append it to lung cancer case list. We will merge the two based on the zip code. Then, we will ask the code to get rid of the zip codes with low.case values. Then we will calculate the mean PM value and compare it to the average PM.\n",
    "- Fourth page: last page, include link to saint jude website as well as other links\n",
    "\n",
    "\n"
   ]
  },
  {
   "cell_type": "code",
   "execution_count": null,
   "metadata": {},
   "outputs": [],
   "source": []
  }
 ],
 "metadata": {
  "language_info": {
   "name": "python"
  },
  "orig_nbformat": 4
 },
 "nbformat": 4,
 "nbformat_minor": 2
}
